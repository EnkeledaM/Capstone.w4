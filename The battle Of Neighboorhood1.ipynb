{
    "nbformat_minor": 1, 
    "cells": [
        {
            "source": "# Capstone project_The battle of neighboorhood1 ", 
            "cell_type": "markdown", 
            "metadata": {}
        }, 
        {
            "source": "### Applied Data Science Capstone by IBM/Coursera", 
            "cell_type": "markdown", 
            "metadata": {}
        }, 
        {
            "source": "  ## Table of Contents\n\n1. <a href=\"#item1\">Introduction: Business Problem</a>\n2. <a href=\"#item2\">Data</a>  \n3. <a href=\"#item3\">Methodology</a> \n4. <a href=\"#item3\">Analysis</a>\n5. <a href=\"#item4\">Results and Discussion</a>  \n6. <a href=\"#item5\">Conclusion</a>  ", 
            "cell_type": "markdown", 
            "metadata": {}
        }, 
        {
            "source": "## Introduction: Business Problem\n  \n    In this project we will try to find an optimal location for a restaurant. Specifically, this report will be targeted to stakeholders interested in opening an **Italian restaurant** in **Berlin**, Germany,\n    \n    Since there are lots of restaurants in Berlin we will try to detect **locations that are not already crowded with restaurants**. We are also particularly interested in **areas with no Italian restaurants in vicinity**. We would also prefer locations **as close to city center as possible**, assuming that first two conditions are met,\n    \n    We will use our data science powers to generate a few most promissing neighborhoods based on this criteria. Advantages of each area will then be clearly expressed so that best possible final location can be chosen by stakeholders.\"\n   ", 
            "cell_type": "markdown", 
            "metadata": {}
        }, 
        {
            "source": " ## Data \n \n    Based on definition of our problem, factors that will influence our decission are:\n        \n    * number of existing restaurants in the neighborhood (any type of restaurant)\n    * number of and distance to Italian restaurants in the neighborhood\n    * distance of neighborhood from city center\n    \n    We decided to use regularly spaced grid of locations, centered around city center, to define our neighborhoods.\n    Following data sources will be needed to extract/generate the required information:\n        \n    * centers of candidate areas will be generated algorithmically and approximate addresses of centers of those areas will be obtained using Google Maps API reverse geocoding,\n    * number of restaurants and their type and location in every neighborhood will be obtained using **Foursquare API\n    * coordinate of Berlin center will be obtained using Google Maps API geocoding of well known Berlin location (Alexanderplatz)\n  ", 
            "cell_type": "markdown", 
            "metadata": {}
        }, 
        {
            "execution_count": null, 
            "cell_type": "code", 
            "metadata": {}, 
            "outputs": [], 
            "source": ""
        }
    ], 
    "metadata": {
        "kernelspec": {
            "display_name": "Python 3.5", 
            "name": "python3", 
            "language": "python"
        }, 
        "language_info": {
            "mimetype": "text/x-python", 
            "nbconvert_exporter": "python", 
            "version": "3.5.5", 
            "name": "python", 
            "file_extension": ".py", 
            "pygments_lexer": "ipython3", 
            "codemirror_mode": {
                "version": 3, 
                "name": "ipython"
            }
        }
    }, 
    "nbformat": 4
}